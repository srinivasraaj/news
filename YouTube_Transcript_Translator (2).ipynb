{
  "cells": [
    {
      "cell_type": "markdown",
      "metadata": {
        "id": "hYAzpnfywTrZ"
      },
      "source": [
        "# 📹 YouTube Transcript Extractor & Translator\n",
        "\n",
        "This Colab notebook lets you:\n",
        "1. Input a YouTube video URL\n",
        "2. Extract the transcript using `youtube-transcript-api`\n",
        "3. Translate it into English using `googletrans`\n",
        "4. Display the translated transcript"
      ]
    },
    {
      "cell_type": "code",
      "source": [
        "# Auto-run on load (if using browser automation)\n",
        "import IPython\n",
        "from IPython.display import Javascript\n",
        "\n",
        "Javascript('''\n",
        "(async function() {\n",
        "  await google.colab.kernel.invokeFunction('notebook.RunAll', [], {});\n",
        "})()\n",
        "''')\n"
      ],
      "metadata": {
        "id": "iaPvf4e802t1"
      },
      "execution_count": null,
      "outputs": []
    },
    {
      "cell_type": "code",
      "execution_count": null,
      "metadata": {
        "colab": {
          "base_uri": "https://localhost:8080/"
        },
        "id": "HzkJEB1kwTrh",
        "outputId": "ba532ab8-89fe-4d1e-8cad-9679c377c17f"
      },
      "outputs": [
        {
          "output_type": "stream",
          "name": "stdout",
          "text": [
            "Requirement already satisfied: youtube-transcript-api in /usr/local/lib/python3.11/dist-packages (1.1.0)\n",
            "Requirement already satisfied: googletrans==4.0.0-rc1 in /usr/local/lib/python3.11/dist-packages (4.0.0rc1)\n",
            "Requirement already satisfied: httpx==0.13.3 in /usr/local/lib/python3.11/dist-packages (from googletrans==4.0.0-rc1) (0.13.3)\n",
            "Requirement already satisfied: certifi in /usr/local/lib/python3.11/dist-packages (from httpx==0.13.3->googletrans==4.0.0-rc1) (2025.4.26)\n",
            "Requirement already satisfied: hstspreload in /usr/local/lib/python3.11/dist-packages (from httpx==0.13.3->googletrans==4.0.0-rc1) (2025.1.1)\n",
            "Requirement already satisfied: sniffio in /usr/local/lib/python3.11/dist-packages (from httpx==0.13.3->googletrans==4.0.0-rc1) (1.3.1)\n",
            "Requirement already satisfied: chardet==3.* in /usr/local/lib/python3.11/dist-packages (from httpx==0.13.3->googletrans==4.0.0-rc1) (3.0.4)\n",
            "Requirement already satisfied: idna==2.* in /usr/local/lib/python3.11/dist-packages (from httpx==0.13.3->googletrans==4.0.0-rc1) (2.10)\n",
            "Requirement already satisfied: rfc3986<2,>=1.3 in /usr/local/lib/python3.11/dist-packages (from httpx==0.13.3->googletrans==4.0.0-rc1) (1.5.0)\n",
            "Requirement already satisfied: httpcore==0.9.* in /usr/local/lib/python3.11/dist-packages (from httpx==0.13.3->googletrans==4.0.0-rc1) (0.9.1)\n",
            "Requirement already satisfied: h11<0.10,>=0.8 in /usr/local/lib/python3.11/dist-packages (from httpcore==0.9.*->httpx==0.13.3->googletrans==4.0.0-rc1) (0.9.0)\n",
            "Requirement already satisfied: h2==3.* in /usr/local/lib/python3.11/dist-packages (from httpcore==0.9.*->httpx==0.13.3->googletrans==4.0.0-rc1) (3.2.0)\n",
            "Requirement already satisfied: hyperframe<6,>=5.2.0 in /usr/local/lib/python3.11/dist-packages (from h2==3.*->httpcore==0.9.*->httpx==0.13.3->googletrans==4.0.0-rc1) (5.2.0)\n",
            "Requirement already satisfied: hpack<4,>=3.0 in /usr/local/lib/python3.11/dist-packages (from h2==3.*->httpcore==0.9.*->httpx==0.13.3->googletrans==4.0.0-rc1) (3.0.0)\n",
            "Requirement already satisfied: defusedxml<0.8.0,>=0.7.1 in /usr/local/lib/python3.11/dist-packages (from youtube-transcript-api) (0.7.1)\n",
            "Requirement already satisfied: requests in /usr/local/lib/python3.11/dist-packages (from youtube-transcript-api) (2.32.3)\n",
            "Requirement already satisfied: charset-normalizer<4,>=2 in /usr/local/lib/python3.11/dist-packages (from requests->youtube-transcript-api) (3.4.2)\n",
            "Requirement already satisfied: urllib3<3,>=1.21.1 in /usr/local/lib/python3.11/dist-packages (from requests->youtube-transcript-api) (2.4.0)\n",
            "Collecting pytube\n",
            "  Downloading pytube-15.0.0-py3-none-any.whl.metadata (5.0 kB)\n",
            "Requirement already satisfied: deep-translator in /usr/local/lib/python3.11/dist-packages (1.11.4)\n",
            "Requirement already satisfied: beautifulsoup4<5.0.0,>=4.9.1 in /usr/local/lib/python3.11/dist-packages (from deep-translator) (4.13.4)\n",
            "Requirement already satisfied: requests<3.0.0,>=2.23.0 in /usr/local/lib/python3.11/dist-packages (from deep-translator) (2.32.3)\n",
            "Requirement already satisfied: soupsieve>1.2 in /usr/local/lib/python3.11/dist-packages (from beautifulsoup4<5.0.0,>=4.9.1->deep-translator) (2.7)\n",
            "Requirement already satisfied: typing-extensions>=4.0.0 in /usr/local/lib/python3.11/dist-packages (from beautifulsoup4<5.0.0,>=4.9.1->deep-translator) (4.14.0)\n",
            "Requirement already satisfied: charset-normalizer<4,>=2 in /usr/local/lib/python3.11/dist-packages (from requests<3.0.0,>=2.23.0->deep-translator) (3.4.2)\n",
            "Requirement already satisfied: idna<4,>=2.5 in /usr/local/lib/python3.11/dist-packages (from requests<3.0.0,>=2.23.0->deep-translator) (2.10)\n",
            "Requirement already satisfied: urllib3<3,>=1.21.1 in /usr/local/lib/python3.11/dist-packages (from requests<3.0.0,>=2.23.0->deep-translator) (2.4.0)\n",
            "Requirement already satisfied: certifi>=2017.4.17 in /usr/local/lib/python3.11/dist-packages (from requests<3.0.0,>=2.23.0->deep-translator) (2025.4.26)\n",
            "Downloading pytube-15.0.0-py3-none-any.whl (57 kB)\n",
            "\u001b[2K   \u001b[90m━━━━━━━━━━━━━━━━━━━━━━━━━━━━━━━━━━━━━━━━\u001b[0m \u001b[32m57.6/57.6 kB\u001b[0m \u001b[31m4.3 MB/s\u001b[0m eta \u001b[36m0:00:00\u001b[0m\n",
            "\u001b[?25hInstalling collected packages: pytube\n",
            "Successfully installed pytube-15.0.0\n"
          ]
        }
      ],
      "source": [
        "# ✅ Install required packages\n",
        "!pip install youtube-transcript-api googletrans==4.0.0-rc1\n",
        "!pip install pytube deep-translator\n"
      ]
    },
    {
      "cell_type": "code",
      "source": [
        "pip install playwright"
      ],
      "metadata": {
        "colab": {
          "base_uri": "https://localhost:8080/"
        },
        "id": "lydhTka3pGWS",
        "outputId": "b9ae551f-1600-444c-990e-fc1a97104453"
      },
      "execution_count": null,
      "outputs": [
        {
          "output_type": "stream",
          "name": "stdout",
          "text": [
            "Collecting playwright\n",
            "  Downloading playwright-1.52.0-py3-none-manylinux1_x86_64.whl.metadata (3.5 kB)\n",
            "Collecting pyee<14,>=13 (from playwright)\n",
            "  Downloading pyee-13.0.0-py3-none-any.whl.metadata (2.9 kB)\n",
            "Requirement already satisfied: greenlet<4.0.0,>=3.1.1 in /usr/local/lib/python3.11/dist-packages (from playwright) (3.2.3)\n",
            "Requirement already satisfied: typing-extensions in /usr/local/lib/python3.11/dist-packages (from pyee<14,>=13->playwright) (4.14.0)\n",
            "Downloading playwright-1.52.0-py3-none-manylinux1_x86_64.whl (45.1 MB)\n",
            "\u001b[2K   \u001b[90m━━━━━━━━━━━━━━━━━━━━━━━━━━━━━━━━━━━━━━━━\u001b[0m \u001b[32m45.1/45.1 MB\u001b[0m \u001b[31m8.0 MB/s\u001b[0m eta \u001b[36m0:00:00\u001b[0m\n",
            "\u001b[?25hDownloading pyee-13.0.0-py3-none-any.whl (15 kB)\n",
            "Installing collected packages: pyee, playwright\n",
            "Successfully installed playwright-1.52.0 pyee-13.0.0\n"
          ]
        }
      ]
    },
    {
      "cell_type": "code",
      "source": [
        "!playwright install"
      ],
      "metadata": {
        "colab": {
          "base_uri": "https://localhost:8080/"
        },
        "id": "0ORiWVigpME2",
        "outputId": "033dc0c5-e6e7-4ef4-a07f-cefc899dc181"
      },
      "execution_count": null,
      "outputs": [
        {
          "output_type": "stream",
          "name": "stdout",
          "text": [
            "Downloading Chromium 136.0.7103.25 (playwright build v1169)\u001b[2m from https://cdn.playwright.dev/dbazure/download/playwright/builds/chromium/1169/chromium-linux.zip\u001b[22m\n",
            "\u001b[1G167.7 MiB [] 0% 0.0s\u001b[0K\u001b[1G167.7 MiB [] 0% 19.1s\u001b[0K\u001b[1G167.7 MiB [] 0% 9.7s\u001b[0K\u001b[1G167.7 MiB [] 0% 5.1s\u001b[0K\u001b[1G167.7 MiB [] 1% 3.7s\u001b[0K\u001b[1G167.7 MiB [] 2% 3.3s\u001b[0K\u001b[1G167.7 MiB [] 2% 3.2s\u001b[0K\u001b[1G167.7 MiB [] 3% 3.1s\u001b[0K\u001b[1G167.7 MiB [] 4% 3.1s\u001b[0K\u001b[1G167.7 MiB [] 4% 2.8s\u001b[0K\u001b[1G167.7 MiB [] 5% 2.7s\u001b[0K\u001b[1G167.7 MiB [] 5% 2.9s\u001b[0K\u001b[1G167.7 MiB [] 6% 2.9s\u001b[0K\u001b[1G167.7 MiB [] 7% 2.8s\u001b[0K\u001b[1G167.7 MiB [] 7% 2.7s\u001b[0K\u001b[1G167.7 MiB [] 8% 2.6s\u001b[0K\u001b[1G167.7 MiB [] 8% 2.7s\u001b[0K\u001b[1G167.7 MiB [] 9% 2.6s\u001b[0K\u001b[1G167.7 MiB [] 9% 2.7s\u001b[0K\u001b[1G167.7 MiB [] 10% 2.7s\u001b[0K\u001b[1G167.7 MiB [] 11% 2.6s\u001b[0K\u001b[1G167.7 MiB [] 11% 2.7s\u001b[0K\u001b[1G167.7 MiB [] 12% 2.6s\u001b[0K\u001b[1G167.7 MiB [] 13% 2.5s\u001b[0K\u001b[1G167.7 MiB [] 14% 2.5s\u001b[0K\u001b[1G167.7 MiB [] 15% 2.4s\u001b[0K\u001b[1G167.7 MiB [] 16% 2.4s\u001b[0K\u001b[1G167.7 MiB [] 17% 2.3s\u001b[0K\u001b[1G167.7 MiB [] 18% 2.2s\u001b[0K\u001b[1G167.7 MiB [] 19% 2.2s\u001b[0K\u001b[1G167.7 MiB [] 20% 2.1s\u001b[0K\u001b[1G167.7 MiB [] 21% 2.1s\u001b[0K\u001b[1G167.7 MiB [] 22% 2.0s\u001b[0K\u001b[1G167.7 MiB [] 22% 2.1s\u001b[0K\u001b[1G167.7 MiB [] 23% 2.1s\u001b[0K\u001b[1G167.7 MiB [] 24% 2.0s\u001b[0K\u001b[1G167.7 MiB [] 25% 2.0s\u001b[0K\u001b[1G167.7 MiB [] 26% 1.9s\u001b[0K\u001b[1G167.7 MiB [] 27% 1.9s\u001b[0K\u001b[1G167.7 MiB [] 28% 1.8s\u001b[0K\u001b[1G167.7 MiB [] 29% 1.8s\u001b[0K\u001b[1G167.7 MiB [] 30% 1.7s\u001b[0K\u001b[1G167.7 MiB [] 31% 1.7s\u001b[0K\u001b[1G167.7 MiB [] 32% 1.7s\u001b[0K\u001b[1G167.7 MiB [] 33% 1.7s\u001b[0K\u001b[1G167.7 MiB [] 34% 1.6s\u001b[0K\u001b[1G167.7 MiB [] 35% 1.5s\u001b[0K\u001b[1G167.7 MiB [] 36% 1.5s\u001b[0K\u001b[1G167.7 MiB [] 37% 1.5s\u001b[0K\u001b[1G167.7 MiB [] 38% 1.5s\u001b[0K\u001b[1G167.7 MiB [] 39% 1.4s\u001b[0K\u001b[1G167.7 MiB [] 40% 1.4s\u001b[0K\u001b[1G167.7 MiB [] 41% 1.3s\u001b[0K\u001b[1G167.7 MiB [] 42% 1.3s\u001b[0K\u001b[1G167.7 MiB [] 43% 1.3s\u001b[0K\u001b[1G167.7 MiB [] 44% 1.3s\u001b[0K\u001b[1G167.7 MiB [] 45% 1.2s\u001b[0K\u001b[1G167.7 MiB [] 46% 1.2s\u001b[0K\u001b[1G167.7 MiB [] 47% 1.2s\u001b[0K\u001b[1G167.7 MiB [] 48% 1.1s\u001b[0K\u001b[1G167.7 MiB [] 49% 1.1s\u001b[0K\u001b[1G167.7 MiB [] 50% 1.1s\u001b[0K\u001b[1G167.7 MiB [] 51% 1.1s\u001b[0K\u001b[1G167.7 MiB [] 52% 1.0s\u001b[0K\u001b[1G167.7 MiB [] 53% 1.0s\u001b[0K\u001b[1G167.7 MiB [] 54% 1.0s\u001b[0K\u001b[1G167.7 MiB [] 55% 1.0s\u001b[0K\u001b[1G167.7 MiB [] 56% 1.0s\u001b[0K\u001b[1G167.7 MiB [] 56% 0.9s\u001b[0K\u001b[1G167.7 MiB [] 58% 0.9s\u001b[0K\u001b[1G167.7 MiB [] 60% 0.9s\u001b[0K\u001b[1G167.7 MiB [] 61% 0.8s\u001b[0K\u001b[1G167.7 MiB [] 62% 0.8s\u001b[0K\u001b[1G167.7 MiB [] 63% 0.8s\u001b[0K\u001b[1G167.7 MiB [] 64% 0.8s\u001b[0K\u001b[1G167.7 MiB [] 65% 0.7s\u001b[0K\u001b[1G167.7 MiB [] 66% 0.7s\u001b[0K\u001b[1G167.7 MiB [] 67% 0.7s\u001b[0K\u001b[1G167.7 MiB [] 68% 0.7s\u001b[0K\u001b[1G167.7 MiB [] 69% 0.7s\u001b[0K\u001b[1G167.7 MiB [] 70% 0.7s\u001b[0K\u001b[1G167.7 MiB [] 71% 0.7s\u001b[0K\u001b[1G167.7 MiB [] 72% 0.6s\u001b[0K\u001b[1G167.7 MiB [] 73% 0.6s\u001b[0K\u001b[1G167.7 MiB [] 74% 0.6s\u001b[0K\u001b[1G167.7 MiB [] 75% 0.6s\u001b[0K\u001b[1G167.7 MiB [] 76% 0.6s\u001b[0K\u001b[1G167.7 MiB [] 76% 0.5s\u001b[0K\u001b[1G167.7 MiB [] 77% 0.5s\u001b[0K\u001b[1G167.7 MiB [] 78% 0.5s\u001b[0K\u001b[1G167.7 MiB [] 79% 0.5s\u001b[0K\u001b[1G167.7 MiB [] 80% 0.5s\u001b[0K\u001b[1G167.7 MiB [] 81% 0.5s\u001b[0K\u001b[1G167.7 MiB [] 82% 0.4s\u001b[0K\u001b[1G167.7 MiB [] 83% 0.4s\u001b[0K\u001b[1G167.7 MiB [] 84% 0.4s\u001b[0K\u001b[1G167.7 MiB [] 85% 0.4s\u001b[0K\u001b[1G167.7 MiB [] 86% 0.4s\u001b[0K\u001b[1G167.7 MiB [] 86% 0.3s\u001b[0K\u001b[1G167.7 MiB [] 87% 0.3s\u001b[0K\u001b[1G167.7 MiB [] 88% 0.3s\u001b[0K\u001b[1G167.7 MiB [] 89% 0.3s\u001b[0K\u001b[1G167.7 MiB [] 90% 0.3s\u001b[0K\u001b[1G167.7 MiB [] 90% 0.2s\u001b[0K\u001b[1G167.7 MiB [] 91% 0.2s\u001b[0K\u001b[1G167.7 MiB [] 92% 0.2s\u001b[0K\u001b[1G167.7 MiB [] 93% 0.2s\u001b[0K\u001b[1G167.7 MiB [] 94% 0.2s\u001b[0K\u001b[1G167.7 MiB [] 94% 0.1s\u001b[0K\u001b[1G167.7 MiB [] 95% 0.1s\u001b[0K\u001b[1G167.7 MiB [] 96% 0.1s\u001b[0K\u001b[1G167.7 MiB [] 97% 0.1s\u001b[0K\u001b[1G167.7 MiB [] 98% 0.0s\u001b[0K\u001b[1G167.7 MiB [] 99% 0.0s\u001b[0K\u001b[1G167.7 MiB [] 100% 0.0s\u001b[0K\n",
            "Chromium 136.0.7103.25 (playwright build v1169) downloaded to /root/.cache/ms-playwright/chromium-1169\n",
            "Downloading Chromium Headless Shell 136.0.7103.25 (playwright build v1169)\u001b[2m from https://cdn.playwright.dev/dbazure/download/playwright/builds/chromium/1169/chromium-headless-shell-linux.zip\u001b[22m\n",
            "\u001b[1G101.4 MiB [] 0% 0.0s\u001b[0K\u001b[1G101.4 MiB [] 0% 13.8s\u001b[0K\u001b[1G101.4 MiB [] 0% 6.7s\u001b[0K\u001b[1G101.4 MiB [] 1% 3.2s\u001b[0K\u001b[1G101.4 MiB [] 2% 2.5s\u001b[0K\u001b[1G101.4 MiB [] 3% 2.2s\u001b[0K\u001b[1G101.4 MiB [] 5% 1.8s\u001b[0K\u001b[1G101.4 MiB [] 6% 1.7s\u001b[0K\u001b[1G101.4 MiB [] 7% 1.6s\u001b[0K\u001b[1G101.4 MiB [] 8% 1.5s\u001b[0K\u001b[1G101.4 MiB [] 9% 1.6s\u001b[0K\u001b[1G101.4 MiB [] 9% 1.7s\u001b[0K\u001b[1G101.4 MiB [] 10% 1.6s\u001b[0K\u001b[1G101.4 MiB [] 11% 1.7s\u001b[0K\u001b[1G101.4 MiB [] 12% 1.6s\u001b[0K\u001b[1G101.4 MiB [] 13% 1.5s\u001b[0K\u001b[1G101.4 MiB [] 15% 1.5s\u001b[0K\u001b[1G101.4 MiB [] 16% 1.5s\u001b[0K\u001b[1G101.4 MiB [] 17% 1.4s\u001b[0K\u001b[1G101.4 MiB [] 18% 1.4s\u001b[0K\u001b[1G101.4 MiB [] 19% 1.4s\u001b[0K\u001b[1G101.4 MiB [] 21% 1.3s\u001b[0K\u001b[1G101.4 MiB [] 23% 1.2s\u001b[0K\u001b[1G101.4 MiB [] 24% 1.2s\u001b[0K\u001b[1G101.4 MiB [] 25% 1.2s\u001b[0K\u001b[1G101.4 MiB [] 27% 1.1s\u001b[0K\u001b[1G101.4 MiB [] 28% 1.1s\u001b[0K\u001b[1G101.4 MiB [] 29% 1.1s\u001b[0K\u001b[1G101.4 MiB [] 30% 1.0s\u001b[0K\u001b[1G101.4 MiB [] 32% 1.0s\u001b[0K\u001b[1G101.4 MiB [] 33% 1.0s\u001b[0K\u001b[1G101.4 MiB [] 35% 0.9s\u001b[0K\u001b[1G101.4 MiB [] 37% 0.9s\u001b[0K\u001b[1G101.4 MiB [] 38% 0.9s\u001b[0K\u001b[1G101.4 MiB [] 40% 0.8s\u001b[0K\u001b[1G101.4 MiB [] 42% 0.8s\u001b[0K\u001b[1G101.4 MiB [] 44% 0.8s\u001b[0K\u001b[1G101.4 MiB [] 46% 0.7s\u001b[0K\u001b[1G101.4 MiB [] 48% 0.7s\u001b[0K\u001b[1G101.4 MiB [] 50% 0.7s\u001b[0K\u001b[1G101.4 MiB [] 51% 0.6s\u001b[0K\u001b[1G101.4 MiB [] 53% 0.6s\u001b[0K\u001b[1G101.4 MiB [] 54% 0.6s\u001b[0K\u001b[1G101.4 MiB [] 56% 0.6s\u001b[0K\u001b[1G101.4 MiB [] 58% 0.5s\u001b[0K\u001b[1G101.4 MiB [] 59% 0.5s\u001b[0K\u001b[1G101.4 MiB [] 61% 0.5s\u001b[0K\u001b[1G101.4 MiB [] 63% 0.4s\u001b[0K\u001b[1G101.4 MiB [] 66% 0.4s\u001b[0K\u001b[1G101.4 MiB [] 67% 0.4s\u001b[0K\u001b[1G101.4 MiB [] 69% 0.4s\u001b[0K\u001b[1G101.4 MiB [] 71% 0.3s\u001b[0K\u001b[1G101.4 MiB [] 72% 0.3s\u001b[0K\u001b[1G101.4 MiB [] 73% 0.3s\u001b[0K\u001b[1G101.4 MiB [] 75% 0.3s\u001b[0K\u001b[1G101.4 MiB [] 77% 0.3s\u001b[0K\u001b[1G101.4 MiB [] 78% 0.3s\u001b[0K\u001b[1G101.4 MiB [] 79% 0.2s\u001b[0K\u001b[1G101.4 MiB [] 80% 0.2s\u001b[0K\u001b[1G101.4 MiB [] 81% 0.2s\u001b[0K\u001b[1G101.4 MiB [] 83% 0.2s\u001b[0K\u001b[1G101.4 MiB [] 84% 0.2s\u001b[0K\u001b[1G101.4 MiB [] 85% 0.2s\u001b[0K\u001b[1G101.4 MiB [] 86% 0.2s\u001b[0K\u001b[1G101.4 MiB [] 88% 0.1s\u001b[0K\u001b[1G101.4 MiB [] 89% 0.1s\u001b[0K\u001b[1G101.4 MiB [] 90% 0.1s\u001b[0K\u001b[1G101.4 MiB [] 91% 0.1s\u001b[0K\u001b[1G101.4 MiB [] 92% 0.1s\u001b[0K\u001b[1G101.4 MiB [] 93% 0.1s\u001b[0K\u001b[1G101.4 MiB [] 95% 0.1s\u001b[0K\u001b[1G101.4 MiB [] 96% 0.0s\u001b[0K\u001b[1G101.4 MiB [] 98% 0.0s\u001b[0K\u001b[1G101.4 MiB [] 99% 0.0s\u001b[0K\u001b[1G101.4 MiB [] 100% 0.0s\u001b[0K\n",
            "Chromium Headless Shell 136.0.7103.25 (playwright build v1169) downloaded to /root/.cache/ms-playwright/chromium_headless_shell-1169\n",
            "Downloading Firefox 137.0 (playwright build v1482)\u001b[2m from https://cdn.playwright.dev/dbazure/download/playwright/builds/firefox/1482/firefox-ubuntu-22.04.zip\u001b[22m\n",
            "\u001b[1G91 MiB [] 0% 0.0s\u001b[0K\u001b[1G91 MiB [] 0% 11.5s\u001b[0K\u001b[1G91 MiB [] 0% 7.1s\u001b[0K\u001b[1G91 MiB [] 1% 4.3s\u001b[0K\u001b[1G91 MiB [] 1% 3.4s\u001b[0K\u001b[1G91 MiB [] 3% 2.4s\u001b[0K\u001b[1G91 MiB [] 4% 2.1s\u001b[0K\u001b[1G91 MiB [] 5% 1.9s\u001b[0K\u001b[1G91 MiB [] 7% 1.7s\u001b[0K\u001b[1G91 MiB [] 8% 1.6s\u001b[0K\u001b[1G91 MiB [] 10% 1.5s\u001b[0K\u001b[1G91 MiB [] 11% 1.6s\u001b[0K\u001b[1G91 MiB [] 12% 1.6s\u001b[0K\u001b[1G91 MiB [] 13% 1.5s\u001b[0K\u001b[1G91 MiB [] 14% 1.4s\u001b[0K\u001b[1G91 MiB [] 15% 1.4s\u001b[0K\u001b[1G91 MiB [] 17% 1.4s\u001b[0K\u001b[1G91 MiB [] 18% 1.4s\u001b[0K\u001b[1G91 MiB [] 19% 1.3s\u001b[0K\u001b[1G91 MiB [] 20% 1.3s\u001b[0K\u001b[1G91 MiB [] 22% 1.2s\u001b[0K\u001b[1G91 MiB [] 23% 1.2s\u001b[0K\u001b[1G91 MiB [] 25% 1.1s\u001b[0K\u001b[1G91 MiB [] 27% 1.1s\u001b[0K\u001b[1G91 MiB [] 28% 1.0s\u001b[0K\u001b[1G91 MiB [] 30% 1.0s\u001b[0K\u001b[1G91 MiB [] 32% 0.9s\u001b[0K\u001b[1G91 MiB [] 34% 0.9s\u001b[0K\u001b[1G91 MiB [] 35% 0.9s\u001b[0K\u001b[1G91 MiB [] 37% 0.8s\u001b[0K\u001b[1G91 MiB [] 38% 0.8s\u001b[0K\u001b[1G91 MiB [] 40% 0.8s\u001b[0K\u001b[1G91 MiB [] 41% 0.8s\u001b[0K\u001b[1G91 MiB [] 42% 0.8s\u001b[0K\u001b[1G91 MiB [] 43% 0.8s\u001b[0K\u001b[1G91 MiB [] 45% 0.7s\u001b[0K\u001b[1G91 MiB [] 47% 0.7s\u001b[0K\u001b[1G91 MiB [] 49% 0.7s\u001b[0K\u001b[1G91 MiB [] 51% 0.6s\u001b[0K\u001b[1G91 MiB [] 52% 0.6s\u001b[0K\u001b[1G91 MiB [] 54% 0.6s\u001b[0K\u001b[1G91 MiB [] 55% 0.6s\u001b[0K\u001b[1G91 MiB [] 56% 0.6s\u001b[0K\u001b[1G91 MiB [] 57% 0.5s\u001b[0K\u001b[1G91 MiB [] 59% 0.5s\u001b[0K\u001b[1G91 MiB [] 61% 0.5s\u001b[0K\u001b[1G91 MiB [] 63% 0.5s\u001b[0K\u001b[1G91 MiB [] 65% 0.4s\u001b[0K\u001b[1G91 MiB [] 67% 0.4s\u001b[0K\u001b[1G91 MiB [] 68% 0.4s\u001b[0K\u001b[1G91 MiB [] 70% 0.4s\u001b[0K\u001b[1G91 MiB [] 72% 0.3s\u001b[0K\u001b[1G91 MiB [] 74% 0.3s\u001b[0K\u001b[1G91 MiB [] 75% 0.3s\u001b[0K\u001b[1G91 MiB [] 77% 0.3s\u001b[0K\u001b[1G91 MiB [] 78% 0.3s\u001b[0K\u001b[1G91 MiB [] 79% 0.2s\u001b[0K\u001b[1G91 MiB [] 80% 0.2s\u001b[0K\u001b[1G91 MiB [] 82% 0.2s\u001b[0K\u001b[1G91 MiB [] 83% 0.2s\u001b[0K\u001b[1G91 MiB [] 85% 0.2s\u001b[0K\u001b[1G91 MiB [] 86% 0.2s\u001b[0K\u001b[1G91 MiB [] 88% 0.1s\u001b[0K\u001b[1G91 MiB [] 89% 0.1s\u001b[0K\u001b[1G91 MiB [] 91% 0.1s\u001b[0K\u001b[1G91 MiB [] 92% 0.1s\u001b[0K\u001b[1G91 MiB [] 93% 0.1s\u001b[0K\u001b[1G91 MiB [] 95% 0.1s\u001b[0K\u001b[1G91 MiB [] 96% 0.0s\u001b[0K\u001b[1G91 MiB [] 98% 0.0s\u001b[0K\u001b[1G91 MiB [] 100% 0.0s\u001b[0K\n",
            "Firefox 137.0 (playwright build v1482) downloaded to /root/.cache/ms-playwright/firefox-1482\n",
            "Downloading Webkit 18.4 (playwright build v2158)\u001b[2m from https://cdn.playwright.dev/dbazure/download/playwright/builds/webkit/2158/webkit-ubuntu-22.04.zip\u001b[22m\n",
            "\u001b[1G93.8 MiB [] 0% 0.0s\u001b[0K\u001b[1G93.8 MiB [] 0% 18.4s\u001b[0K\u001b[1G93.8 MiB [] 0% 7.9s\u001b[0K\u001b[1G93.8 MiB [] 1% 4.9s\u001b[0K\u001b[1G93.8 MiB [] 1% 3.7s\u001b[0K\u001b[1G93.8 MiB [] 2% 3.0s\u001b[0K\u001b[1G93.8 MiB [] 3% 2.8s\u001b[0K\u001b[1G93.8 MiB [] 4% 2.7s\u001b[0K\u001b[1G93.8 MiB [] 5% 2.4s\u001b[0K\u001b[1G93.8 MiB [] 6% 2.2s\u001b[0K\u001b[1G93.8 MiB [] 7% 2.0s\u001b[0K\u001b[1G93.8 MiB [] 8% 1.9s\u001b[0K\u001b[1G93.8 MiB [] 9% 1.9s\u001b[0K\u001b[1G93.8 MiB [] 10% 1.9s\u001b[0K\u001b[1G93.8 MiB [] 10% 2.0s\u001b[0K\u001b[1G93.8 MiB [] 11% 2.0s\u001b[0K\u001b[1G93.8 MiB [] 12% 2.1s\u001b[0K\u001b[1G93.8 MiB [] 13% 2.0s\u001b[0K\u001b[1G93.8 MiB [] 14% 1.9s\u001b[0K\u001b[1G93.8 MiB [] 15% 1.8s\u001b[0K\u001b[1G93.8 MiB [] 16% 1.8s\u001b[0K\u001b[1G93.8 MiB [] 17% 1.8s\u001b[0K\u001b[1G93.8 MiB [] 18% 1.8s\u001b[0K\u001b[1G93.8 MiB [] 19% 1.7s\u001b[0K\u001b[1G93.8 MiB [] 20% 1.7s\u001b[0K\u001b[1G93.8 MiB [] 22% 1.6s\u001b[0K\u001b[1G93.8 MiB [] 23% 1.5s\u001b[0K\u001b[1G93.8 MiB [] 24% 1.5s\u001b[0K\u001b[1G93.8 MiB [] 25% 1.5s\u001b[0K\u001b[1G93.8 MiB [] 27% 1.4s\u001b[0K\u001b[1G93.8 MiB [] 28% 1.4s\u001b[0K\u001b[1G93.8 MiB [] 29% 1.3s\u001b[0K\u001b[1G93.8 MiB [] 31% 1.3s\u001b[0K\u001b[1G93.8 MiB [] 32% 1.3s\u001b[0K\u001b[1G93.8 MiB [] 34% 1.2s\u001b[0K\u001b[1G93.8 MiB [] 37% 1.1s\u001b[0K\u001b[1G93.8 MiB [] 39% 1.0s\u001b[0K\u001b[1G93.8 MiB [] 41% 0.9s\u001b[0K\u001b[1G93.8 MiB [] 42% 0.9s\u001b[0K\u001b[1G93.8 MiB [] 44% 0.9s\u001b[0K\u001b[1G93.8 MiB [] 46% 0.8s\u001b[0K\u001b[1G93.8 MiB [] 48% 0.8s\u001b[0K\u001b[1G93.8 MiB [] 49% 0.8s\u001b[0K\u001b[1G93.8 MiB [] 50% 0.8s\u001b[0K\u001b[1G93.8 MiB [] 52% 0.7s\u001b[0K\u001b[1G93.8 MiB [] 54% 0.7s\u001b[0K\u001b[1G93.8 MiB [] 57% 0.6s\u001b[0K\u001b[1G93.8 MiB [] 59% 0.6s\u001b[0K\u001b[1G93.8 MiB [] 62% 0.5s\u001b[0K\u001b[1G93.8 MiB [] 64% 0.5s\u001b[0K\u001b[1G93.8 MiB [] 66% 0.4s\u001b[0K\u001b[1G93.8 MiB [] 68% 0.4s\u001b[0K\u001b[1G93.8 MiB [] 69% 0.4s\u001b[0K\u001b[1G93.8 MiB [] 71% 0.4s\u001b[0K\u001b[1G93.8 MiB [] 73% 0.3s\u001b[0K\u001b[1G93.8 MiB [] 75% 0.3s\u001b[0K\u001b[1G93.8 MiB [] 78% 0.3s\u001b[0K\u001b[1G93.8 MiB [] 80% 0.2s\u001b[0K\u001b[1G93.8 MiB [] 82% 0.2s\u001b[0K\u001b[1G93.8 MiB [] 83% 0.2s\u001b[0K\u001b[1G93.8 MiB [] 86% 0.2s\u001b[0K\u001b[1G93.8 MiB [] 88% 0.1s\u001b[0K\u001b[1G93.8 MiB [] 90% 0.1s\u001b[0K\u001b[1G93.8 MiB [] 93% 0.1s\u001b[0K\u001b[1G93.8 MiB [] 95% 0.0s\u001b[0K\u001b[1G93.8 MiB [] 98% 0.0s\u001b[0K\u001b[1G93.8 MiB [] 100% 0.0s\u001b[0K\n",
            "Webkit 18.4 (playwright build v2158) downloaded to /root/.cache/ms-playwright/webkit-2158\n",
            "Downloading FFMPEG playwright build v1011\u001b[2m from https://cdn.playwright.dev/dbazure/download/playwright/builds/ffmpeg/1011/ffmpeg-linux.zip\u001b[22m\n",
            "\u001b[1G2.3 MiB [] 0% 0.0s\u001b[0K\u001b[1G2.3 MiB [] 6% 0.3s\u001b[0K\u001b[1G2.3 MiB [] 27% 0.1s\u001b[0K\u001b[1G2.3 MiB [] 73% 0.0s\u001b[0K\u001b[1G2.3 MiB [] 100% 0.0s\u001b[0K\n",
            "FFMPEG playwright build v1011 downloaded to /root/.cache/ms-playwright/ffmpeg-1011\n",
            "Playwright Host validation warning: \n",
            "╔══════════════════════════════════════════════════════╗\n",
            "║ Host system is missing dependencies to run browsers. ║\n",
            "║ Missing libraries:                                   ║\n",
            "║     libwoff2dec.so.1.0.2                             ║\n",
            "║     libgstgl-1.0.so.0                                ║\n",
            "║     libgstcodecparsers-1.0.so.0                      ║\n",
            "║     libavif.so.13                                    ║\n",
            "║     libharfbuzz-icu.so.0                             ║\n",
            "║     libenchant-2.so.2                                ║\n",
            "║     libsecret-1.so.0                                 ║\n",
            "║     libhyphen.so.0                                   ║\n",
            "║     libmanette-0.2.so.0                              ║\n",
            "╚══════════════════════════════════════════════════════╝\n",
            "    at validateDependenciesLinux (/usr/local/lib/python3.11/dist-packages/playwright/driver/package/lib/server/registry/dependencies.js:269:9)\n",
            "\u001b[90m    at process.processTicksAndRejections (node:internal/process/task_queues:105:5)\u001b[39m\n",
            "    at async Registry._validateHostRequirements (/usr/local/lib/python3.11/dist-packages/playwright/driver/package/lib/server/registry/index.js:927:14)\n",
            "    at async Registry._validateHostRequirementsForExecutableIfNeeded (/usr/local/lib/python3.11/dist-packages/playwright/driver/package/lib/server/registry/index.js:1047:7)\n",
            "    at async Registry.validateHostRequirementsForExecutablesIfNeeded (/usr/local/lib/python3.11/dist-packages/playwright/driver/package/lib/server/registry/index.js:1036:7)\n",
            "    at async t.<anonymous> (/usr/local/lib/python3.11/dist-packages/playwright/driver/package/lib/cli/program.js:160:7)\n"
          ]
        }
      ]
    },
    {
      "cell_type": "code",
      "source": [
        "\n",
        "import nest_asyncio\n",
        "nest_asyncio.apply()\n",
        "\n",
        "import asyncio\n",
        "from playwright.async_api import async_playwright\n",
        "from bs4 import BeautifulSoup\n",
        "import re\n",
        "\n",
        "# Function to extract Telugu + time marker entries\n",
        "async def fetch_time_tagged_telugu(url):\n",
        "    async with async_playwright() as p:\n",
        "        browser = await p.chromium.launch(headless=True)\n",
        "        page = await browser.new_page()\n",
        "        await page.goto(url)\n",
        "        await page.wait_for_timeout(5000)\n",
        "\n",
        "        html = await page.content()\n",
        "        soup = BeautifulSoup(html, 'html.parser')\n",
        "\n",
        "        timestamp_regex = re.compile(r\"\\[\\d{1,2}:\\d{2}\\]\")\n",
        "        telugu_regex = re.compile(r\"[\\u0C00-\\u0C7F]\")\n",
        "\n",
        "        entries = []\n",
        "\n",
        "        for tag in soup.find_all(['p', 'h1', 'h2', 'div', 'span']):\n",
        "            raw_text = tag.get_text(strip=True)\n",
        "            if not raw_text:\n",
        "                continue\n",
        "\n",
        "            # Find all timestamps in this tag\n",
        "            timestamps = timestamp_regex.findall(raw_text)\n",
        "\n",
        "            # If timestamps exist in this block\n",
        "            if timestamps:\n",
        "                split_text = timestamp_regex.split(raw_text)\n",
        "                split_text = [t.strip() for t in split_text if t.strip()]\n",
        "\n",
        "                for i, sentence in enumerate(split_text):\n",
        "                    if i < len(timestamps) and telugu_regex.search(sentence):\n",
        "                        entries.append({\n",
        "                            \"time\": timestamps[i],\n",
        "                            \"text\": sentence\n",
        "                        })\n",
        "            elif telugu_regex.search(raw_text):\n",
        "                entries.append({\n",
        "                    \"time\": \"\",\n",
        "                    \"text\": raw_text\n",
        "                })\n",
        "\n",
        "        await browser.close()\n",
        "        return entries\n",
        "\n",
        "# Example usage\n",
        "url = \"https://www.eenadu.net/telugu-news\"  # Replace with actual article URL\n",
        "results = asyncio.get_event_loop().run_until_complete(fetch_time_tagged_telugu(url))\n",
        "\n",
        "# Display clean output\n",
        "for entry in results:\n",
        "    if entry[\"time\"]:\n",
        "        print(f\"{entry['time']} {entry['text']}\")\n",
        "    else:\n",
        "        print(entry[\"text\"])\n"
      ],
      "metadata": {
        "colab": {
          "base_uri": "https://localhost:8080/"
        },
        "id": "3cboNSg9mvkz",
        "outputId": "805142a8-a3dc-47ac-d447-387fa48cd92f"
      },
      "execution_count": null,
      "outputs": [
        {
          "output_type": "stream",
          "name": "stdout",
          "text": [
            "[12:36] TRENDINGFlight CrashIND vs ENGRainsBreaking|Feedback|ePratibha|E-PAPER|Pratibhaఆంధ్రప్రదేశ్రాష్ట్ర వార్తలుజిల్లా వార్తలుతెలంగాణరాష్ట్ర వార్తలుజిల్లా వార్తలుజాతీయంఅంతర్జాతీయంక్రైమ్బిజినెస్క్రీడలుసినిమావసుంధరఫీచర్ పేజీలుచదువుసుఖీభవఈ-నాడుమకరందంఈ తరంఆహాహాయ్ బుజ్జీస్థిరాస్తిదేవతార్చనవెబ్ స్టోరీస్కథామృతంఎన్ఆర్ఐఇంకా..ఫొటోలువీడియోలువెబ్ ప్రత్యేకంసండే మ్యాగజైన్క్యాలెండర్రాశిఫలంరిజల్ట్స్బ్రేకింగ్మీరు చూడాలనుకున్న వార్త/కథనం అందుబాటులో లేదు.తాజా వార్తలుపోలవరం-బనకచర్ల వల్ల ఎగువ రాష్ట్రాలకు ఎలాంటి నష్టం లేదు : నిమ్మల రామానాయుడు\n",
            "[12:34] పోలవరం-బనకచర్ల ప్రాజెక్టు వల్ల ఎగువ రాష్ట్రాలకు ఎలాంటి నష్టం లేదని ఏపీ మంత్రి నిమ్మల రామానాయుడు అన్నారు.ఇరాన్‌ నుంచి అర్మేనియా చేరుకున్న 110 మంది భారతీయ విద్యార్థులు\n",
            "[12:30] ఇరాన్‌- ఇజ్రాయెల్‌ మధ్య యుద్ధం కొనసాగుతున్న నేపథ్యంలో అక్కడి భారతీయ విద్యార్థులను తరలించేందుకు ప్రభుత్వం చర్యలు చేపట్టింది.‘థగ్‌లైఫ్‌’ను కర్ణాటకలో విడుదల చేయాల్సిందే: సుప్రీంకోర్టు\n",
            "[12:29] కమల్‌హాసన్‌ నటించిన థగ్‌లైఫ్‌లో సుప్రీంకోర్టులో ఊరట లభించింది.బెంగళూరు ఎయిర్‌పోర్టులో చెవిరెడ్డిని అడ్డుకున్న పోలీసులు\n",
            "[12:26] వైకాపా నేత చెవిరెడ్డి భాస్కర్‌రెడ్డిని బెంగళూరు ఎయిర్‌పోర్టులో పోలీసులు అడ్డుకున్నారు.ఉక్రెయిన్‌పై రష్యా క్షిపణి దాడి.. 14 మంది మృతి\n",
            "[12:13] కీవ్‌లోని నివాస సముదాయాలపై రష్యా క్షిపణులు, డ్రోన్‌లతో విరుచుకుపడడంతో 14 మంది ప్రాణాలు కోల్పోయినట్లు అధికారులు పేర్కొన్నారు.ఫోన్‌ ట్యాపింగ్‌ కేసు.. విచారణకు హాజరైన టీపీసీసీ చీఫ్‌\n",
            "[11:57] ఫోన్‌ ట్యాపింగ్‌ కేసు విచారణకు టీపీసీసీ అధ్యక్షుడు మహేశ్‌కుమార్‌ గౌడ్‌ హాజరయ్యారు.టీ20 చరిత్రలో తొలిసారి.. మూడు సూపర్‌ ఓవర్లతో తేలిన ఫలితం\n",
            "[11:50] త్రైపాక్షిక సిరీస్‌లో భాగంగా నేపాల్‌, నెదర్లాండ్స్‌ మధ్య జరిగిన మ్యాచ్‌లో రెండుసార్లు స్కోరు సమం అవడంతో చివరకు మూడో సూపర్‌ ఓవర్‌లో ఫలితం తేలింది.సిరీస్‌గా ‘రెట్రో’ ఎక్స్‌టెండెడ్‌ వెర్షన్‌.... దర్శకుడు ఏం చెప్పారంటే!\n",
            "[11:41] ఓటీటీలోకి రెట్రో ఎక్స్‌టెండెడ్‌ వెర్షన్‌ తీసుకువచ్చే ఆలోచనలో ఉన్నట్లు దర్శకుడు వివరించారు.ఇరాన్‌లో ఏదో జరగబోతోంది.. అందుకే సిట్యుయేషన్‌ రూమ్‌కు ట్రంప్‌..!\n",
            "[11:17] ఇరాన్‌ భూగర్భ అణు కేంద్రాలను ధ్వంసం చేసేందుకు అమెరికా అమ్ములపొదిలోని శక్తిమంతమైన అస్త్రాలను బయటకు తీయనుందనే ప్రచారం జోరందుకొంది. మరోవైపు ట్రంప్‌ శ్వేతసౌధంలో సిట్యుయేషన్‌ రూమ్‌ను సిద్ధం చేయించారు.మినీ వ్యాను బీభత్సం.. దంపతుల దుర్మరణం\n",
            "[10:43] శ్రీపొట్టి శ్రీరాములు నెల్లూరు జిల్లా దుత్తలూరు మండలం బ్రహ్మేశ్వరంలో మినీ వ్యాను బీభత్సం సృష్టించింది.ఏటీఎంల్లో పెరిగిన రూ.100, రూ.200 నోట్ల లభ్యత\n",
            "[10:40] ATMs: ఆర్‌బీఐ గడువుకు మూడు నెలల కంటే ముందే దేశంలోని ఏటీఎంలలో రూ.100, రూ.200 నోట్ల లభ్యత 73 శాతానికి చేరింది.పూరి జగన్నాథ్‌ చిత్రంలో మరో నటి.. ఫొటో షేర్‌ చేసిన టీమ్‌\n",
            "[10:36] పూరి జగన్నాథ్‌ - విజయ్‌ సేతుపతి సినిమాలో మరో నటి భాగమయ్యారు. ఆమెతో దిగిన ఫొటోను పూరి, చార్మీ షేర్‌ చేశారు.టెహ్రాన్‌ ఎయిర్‌పోర్టుపై ఇజ్రాయెల్ దాడి.. రెండు ఎఫ్‌-14 యుద్ధ విమానాలు ధ్వంసం\n",
            "[10:27] టెహ్రాన్‌లోని విమానాశ్రయంపై ఇజ్రాయెల్‌ దాడులు చేసి.. రెండు ఎఫ్‌-14 యుద్ధ విమానాలను ధ్వంసం చేసింది.హర్మూజ్‌లో టెన్షన్‌.. మూడు నౌకల్లో మంటలు..?\n",
            "[10:12] హర్మూజ్‌ జలసంధి విషయంలో ప్రపంచం భయపడిందే జరిగిందా అనే ఆందోళనలు మొదలయ్యాయి. ఇక్కడ మూడు నౌకలు తగలబడుతున్నట్లు వార్తలొస్తున్నాయి.టెహ్రాన్‌ను తక్షణమే వీడండి: భారతీయులకు ఎంబసీ తాజా అడ్వైజరీ\n",
            "[10:05] Iran-Israel: టెహ్రాన్‌లోని భారతీయులు తక్షణమే ఆ నగరాన్ని వీడాలని అక్కడి ఎంబసీ తాజాగా అడ్వైజరీ జారీ చేసింది.పశ్చిమాసియా వ్యాప్తంగా ఎయిర్‌పోర్టుల మూసివేత.. చిక్కుకుపోయిన వేలాదిమంది\n",
            "[10:04] ఇజ్రాయెల్‌-ఇరాన్‌ యుద్ధం నేపథ్యంలో పశ్చిమాసియా వ్యాప్తంగా గగనతలాలపై ఆంక్షలు విధించడంతో వేలాదిమంది ప్రయాణికులు చిక్కుకుపోయారు.కుప్పంలో మహిళపై దాడి ఘటన.. చంద్రబాబు ఆగ్రహం\n",
            "[09:56] కుప్పంలో ఓ మహిళను చెట్టుకు కట్టి దాడి చేసిన ఘటనపై ముఖ్యమంత్రి చంద్రబాబు ఆగ్రహం వ్యక్తం చేశారు.గల్ఫ్‌ దేశాలతో రాయబారం: ముందుగా ఇరాన్‌ ఒప్పందానికి రావాలన్న ట్రంప్‌..!\n",
            "[09:44] ఇజ్రాయెల్‌తో కాల్పుల విరమణ కోసం ఇరాన్‌ అరబ్‌ మిత్రుల సాయం కోరింది. కానీ, ట్రంప్‌ మాత్రం టెహ్రాన్‌ తొలుత డీల్‌ కుదుర్చుకోవాల్సిందేనని తేల్చి చెప్పారు.1947 నేపథ్యంలో మంచు విష్ణు సినిమా.. ‘ఢీ’ సీక్వెల్‌ గురించి ఏమన్నారంటే!\n",
            "ఆంధ్రప్రదేశ్రాష్ట్ర వార్తలుజిల్లా వార్తలుతెలంగాణరాష్ట్ర వార్తలుజిల్లా వార్తలుజాతీయంఅంతర్జాతీయంక్రైమ్బిజినెస్క్రీడలుసినిమావసుంధరఫీచర్ పేజీలుచదువుసుఖీభవఈ-నాడుమకరందంఈ తరంఆహాహాయ్ బుజ్జీస్థిరాస్తిదేవతార్చనవెబ్ స్టోరీస్కథామృతంఎన్ఆర్ఐఇంకా..ఫొటోలువీడియోలువెబ్ ప్రత్యేకంసండే మ్యాగజైన్క్యాలెండర్రాశిఫలంరిజల్ట్స్బ్రేకింగ్\n",
            "ఆంధ్రప్రదేశ్\n",
            "తెలంగాణ\n",
            "ఫీచర్ పేజీలు\n",
            "ఇంకా..\n",
            "[12:36] మీరు చూడాలనుకున్న వార్త/కథనం అందుబాటులో లేదు.తాజా వార్తలుపోలవరం-బనకచర్ల వల్ల ఎగువ రాష్ట్రాలకు ఎలాంటి నష్టం లేదు : నిమ్మల రామానాయుడు\n",
            "[12:34] పోలవరం-బనకచర్ల ప్రాజెక్టు వల్ల ఎగువ రాష్ట్రాలకు ఎలాంటి నష్టం లేదని ఏపీ మంత్రి నిమ్మల రామానాయుడు అన్నారు.ఇరాన్‌ నుంచి అర్మేనియా చేరుకున్న 110 మంది భారతీయ విద్యార్థులు\n",
            "[12:30] ఇరాన్‌- ఇజ్రాయెల్‌ మధ్య యుద్ధం కొనసాగుతున్న నేపథ్యంలో అక్కడి భారతీయ విద్యార్థులను తరలించేందుకు ప్రభుత్వం చర్యలు చేపట్టింది.‘థగ్‌లైఫ్‌’ను కర్ణాటకలో విడుదల చేయాల్సిందే: సుప్రీంకోర్టు\n",
            "[12:29] కమల్‌హాసన్‌ నటించిన థగ్‌లైఫ్‌లో సుప్రీంకోర్టులో ఊరట లభించింది.బెంగళూరు ఎయిర్‌పోర్టులో చెవిరెడ్డిని అడ్డుకున్న పోలీసులు\n",
            "[12:26] వైకాపా నేత చెవిరెడ్డి భాస్కర్‌రెడ్డిని బెంగళూరు ఎయిర్‌పోర్టులో పోలీసులు అడ్డుకున్నారు.ఉక్రెయిన్‌పై రష్యా క్షిపణి దాడి.. 14 మంది మృతి\n",
            "[12:13] కీవ్‌లోని నివాస సముదాయాలపై రష్యా క్షిపణులు, డ్రోన్‌లతో విరుచుకుపడడంతో 14 మంది ప్రాణాలు కోల్పోయినట్లు అధికారులు పేర్కొన్నారు.ఫోన్‌ ట్యాపింగ్‌ కేసు.. విచారణకు హాజరైన టీపీసీసీ చీఫ్‌\n",
            "[11:57] ఫోన్‌ ట్యాపింగ్‌ కేసు విచారణకు టీపీసీసీ అధ్యక్షుడు మహేశ్‌కుమార్‌ గౌడ్‌ హాజరయ్యారు.టీ20 చరిత్రలో తొలిసారి.. మూడు సూపర్‌ ఓవర్లతో తేలిన ఫలితం\n",
            "[11:50] త్రైపాక్షిక సిరీస్‌లో భాగంగా నేపాల్‌, నెదర్లాండ్స్‌ మధ్య జరిగిన మ్యాచ్‌లో రెండుసార్లు స్కోరు సమం అవడంతో చివరకు మూడో సూపర్‌ ఓవర్‌లో ఫలితం తేలింది.సిరీస్‌గా ‘రెట్రో’ ఎక్స్‌టెండెడ్‌ వెర్షన్‌.... దర్శకుడు ఏం చెప్పారంటే!\n",
            "[11:41] ఓటీటీలోకి రెట్రో ఎక్స్‌టెండెడ్‌ వెర్షన్‌ తీసుకువచ్చే ఆలోచనలో ఉన్నట్లు దర్శకుడు వివరించారు.ఇరాన్‌లో ఏదో జరగబోతోంది.. అందుకే సిట్యుయేషన్‌ రూమ్‌కు ట్రంప్‌..!\n",
            "[11:17] ఇరాన్‌ భూగర్భ అణు కేంద్రాలను ధ్వంసం చేసేందుకు అమెరికా అమ్ములపొదిలోని శక్తిమంతమైన అస్త్రాలను బయటకు తీయనుందనే ప్రచారం జోరందుకొంది. మరోవైపు ట్రంప్‌ శ్వేతసౌధంలో సిట్యుయేషన్‌ రూమ్‌ను సిద్ధం చేయించారు.మినీ వ్యాను బీభత్సం.. దంపతుల దుర్మరణం\n",
            "[10:43] శ్రీపొట్టి శ్రీరాములు నెల్లూరు జిల్లా దుత్తలూరు మండలం బ్రహ్మేశ్వరంలో మినీ వ్యాను బీభత్సం సృష్టించింది.ఏటీఎంల్లో పెరిగిన రూ.100, రూ.200 నోట్ల లభ్యత\n",
            "[10:40] ATMs: ఆర్‌బీఐ గడువుకు మూడు నెలల కంటే ముందే దేశంలోని ఏటీఎంలలో రూ.100, రూ.200 నోట్ల లభ్యత 73 శాతానికి చేరింది.పూరి జగన్నాథ్‌ చిత్రంలో మరో నటి.. ఫొటో షేర్‌ చేసిన టీమ్‌\n",
            "[10:36] పూరి జగన్నాథ్‌ - విజయ్‌ సేతుపతి సినిమాలో మరో నటి భాగమయ్యారు. ఆమెతో దిగిన ఫొటోను పూరి, చార్మీ షేర్‌ చేశారు.టెహ్రాన్‌ ఎయిర్‌పోర్టుపై ఇజ్రాయెల్ దాడి.. రెండు ఎఫ్‌-14 యుద్ధ విమానాలు ధ్వంసం\n",
            "[10:27] టెహ్రాన్‌లోని విమానాశ్రయంపై ఇజ్రాయెల్‌ దాడులు చేసి.. రెండు ఎఫ్‌-14 యుద్ధ విమానాలను ధ్వంసం చేసింది.హర్మూజ్‌లో టెన్షన్‌.. మూడు నౌకల్లో మంటలు..?\n",
            "[10:12] హర్మూజ్‌ జలసంధి విషయంలో ప్రపంచం భయపడిందే జరిగిందా అనే ఆందోళనలు మొదలయ్యాయి. ఇక్కడ మూడు నౌకలు తగలబడుతున్నట్లు వార్తలొస్తున్నాయి.టెహ్రాన్‌ను తక్షణమే వీడండి: భారతీయులకు ఎంబసీ తాజా అడ్వైజరీ\n",
            "[10:05] Iran-Israel: టెహ్రాన్‌లోని భారతీయులు తక్షణమే ఆ నగరాన్ని వీడాలని అక్కడి ఎంబసీ తాజాగా అడ్వైజరీ జారీ చేసింది.పశ్చిమాసియా వ్యాప్తంగా ఎయిర్‌పోర్టుల మూసివేత.. చిక్కుకుపోయిన వేలాదిమంది\n",
            "[10:04] ఇజ్రాయెల్‌-ఇరాన్‌ యుద్ధం నేపథ్యంలో పశ్చిమాసియా వ్యాప్తంగా గగనతలాలపై ఆంక్షలు విధించడంతో వేలాదిమంది ప్రయాణికులు చిక్కుకుపోయారు.కుప్పంలో మహిళపై దాడి ఘటన.. చంద్రబాబు ఆగ్రహం\n",
            "[09:56] కుప్పంలో ఓ మహిళను చెట్టుకు కట్టి దాడి చేసిన ఘటనపై ముఖ్యమంత్రి చంద్రబాబు ఆగ్రహం వ్యక్తం చేశారు.గల్ఫ్‌ దేశాలతో రాయబారం: ముందుగా ఇరాన్‌ ఒప్పందానికి రావాలన్న ట్రంప్‌..!\n",
            "[09:44] ఇజ్రాయెల్‌తో కాల్పుల విరమణ కోసం ఇరాన్‌ అరబ్‌ మిత్రుల సాయం కోరింది. కానీ, ట్రంప్‌ మాత్రం టెహ్రాన్‌ తొలుత డీల్‌ కుదుర్చుకోవాల్సిందేనని తేల్చి చెప్పారు.1947 నేపథ్యంలో మంచు విష్ణు సినిమా.. ‘ఢీ’ సీక్వెల్‌ గురించి ఏమన్నారంటే!\n",
            "మీరు చూడాలనుకున్న వార్త/కథనం అందుబాటులో లేదు.\n",
            "మీరు చూడాలనుకున్న వార్త/కథనం అందుబాటులో లేదు.\n",
            "మీరు చూడాలనుకున్న వార్త/కథనం అందుబాటులో లేదు.\n",
            "తాజా వార్తలు\n",
            "[12:36] పోలవరం-బనకచర్ల వల్ల ఎగువ రాష్ట్రాలకు ఎలాంటి నష్టం లేదు : నిమ్మల రామానాయుడు\n",
            "[12:34] పోలవరం-బనకచర్ల ప్రాజెక్టు వల్ల ఎగువ రాష్ట్రాలకు ఎలాంటి నష్టం లేదని ఏపీ మంత్రి నిమ్మల రామానాయుడు అన్నారు.ఇరాన్‌ నుంచి అర్మేనియా చేరుకున్న 110 మంది భారతీయ విద్యార్థులు\n",
            "[12:30] ఇరాన్‌- ఇజ్రాయెల్‌ మధ్య యుద్ధం కొనసాగుతున్న నేపథ్యంలో అక్కడి భారతీయ విద్యార్థులను తరలించేందుకు ప్రభుత్వం చర్యలు చేపట్టింది.‘థగ్‌లైఫ్‌’ను కర్ణాటకలో విడుదల చేయాల్సిందే: సుప్రీంకోర్టు\n",
            "[12:29] కమల్‌హాసన్‌ నటించిన థగ్‌లైఫ్‌లో సుప్రీంకోర్టులో ఊరట లభించింది.బెంగళూరు ఎయిర్‌పోర్టులో చెవిరెడ్డిని అడ్డుకున్న పోలీసులు\n",
            "[12:26] వైకాపా నేత చెవిరెడ్డి భాస్కర్‌రెడ్డిని బెంగళూరు ఎయిర్‌పోర్టులో పోలీసులు అడ్డుకున్నారు.ఉక్రెయిన్‌పై రష్యా క్షిపణి దాడి.. 14 మంది మృతి\n",
            "[12:13] కీవ్‌లోని నివాస సముదాయాలపై రష్యా క్షిపణులు, డ్రోన్‌లతో విరుచుకుపడడంతో 14 మంది ప్రాణాలు కోల్పోయినట్లు అధికారులు పేర్కొన్నారు.ఫోన్‌ ట్యాపింగ్‌ కేసు.. విచారణకు హాజరైన టీపీసీసీ చీఫ్‌\n",
            "[11:57] ఫోన్‌ ట్యాపింగ్‌ కేసు విచారణకు టీపీసీసీ అధ్యక్షుడు మహేశ్‌కుమార్‌ గౌడ్‌ హాజరయ్యారు.టీ20 చరిత్రలో తొలిసారి.. మూడు సూపర్‌ ఓవర్లతో తేలిన ఫలితం\n",
            "[11:50] త్రైపాక్షిక సిరీస్‌లో భాగంగా నేపాల్‌, నెదర్లాండ్స్‌ మధ్య జరిగిన మ్యాచ్‌లో రెండుసార్లు స్కోరు సమం అవడంతో చివరకు మూడో సూపర్‌ ఓవర్‌లో ఫలితం తేలింది.సిరీస్‌గా ‘రెట్రో’ ఎక్స్‌టెండెడ్‌ వెర్షన్‌.... దర్శకుడు ఏం చెప్పారంటే!\n",
            "[11:41] ఓటీటీలోకి రెట్రో ఎక్స్‌టెండెడ్‌ వెర్షన్‌ తీసుకువచ్చే ఆలోచనలో ఉన్నట్లు దర్శకుడు వివరించారు.ఇరాన్‌లో ఏదో జరగబోతోంది.. అందుకే సిట్యుయేషన్‌ రూమ్‌కు ట్రంప్‌..!\n",
            "[11:17] ఇరాన్‌ భూగర్భ అణు కేంద్రాలను ధ్వంసం చేసేందుకు అమెరికా అమ్ములపొదిలోని శక్తిమంతమైన అస్త్రాలను బయటకు తీయనుందనే ప్రచారం జోరందుకొంది. మరోవైపు ట్రంప్‌ శ్వేతసౌధంలో సిట్యుయేషన్‌ రూమ్‌ను సిద్ధం చేయించారు.మినీ వ్యాను బీభత్సం.. దంపతుల దుర్మరణం\n",
            "[10:43] శ్రీపొట్టి శ్రీరాములు నెల్లూరు జిల్లా దుత్తలూరు మండలం బ్రహ్మేశ్వరంలో మినీ వ్యాను బీభత్సం సృష్టించింది.ఏటీఎంల్లో పెరిగిన రూ.100, రూ.200 నోట్ల లభ్యత\n",
            "[10:40] ATMs: ఆర్‌బీఐ గడువుకు మూడు నెలల కంటే ముందే దేశంలోని ఏటీఎంలలో రూ.100, రూ.200 నోట్ల లభ్యత 73 శాతానికి చేరింది.పూరి జగన్నాథ్‌ చిత్రంలో మరో నటి.. ఫొటో షేర్‌ చేసిన టీమ్‌\n",
            "[10:36] పూరి జగన్నాథ్‌ - విజయ్‌ సేతుపతి సినిమాలో మరో నటి భాగమయ్యారు. ఆమెతో దిగిన ఫొటోను పూరి, చార్మీ షేర్‌ చేశారు.టెహ్రాన్‌ ఎయిర్‌పోర్టుపై ఇజ్రాయెల్ దాడి.. రెండు ఎఫ్‌-14 యుద్ధ విమానాలు ధ్వంసం\n",
            "[10:27] టెహ్రాన్‌లోని విమానాశ్రయంపై ఇజ్రాయెల్‌ దాడులు చేసి.. రెండు ఎఫ్‌-14 యుద్ధ విమానాలను ధ్వంసం చేసింది.హర్మూజ్‌లో టెన్షన్‌.. మూడు నౌకల్లో మంటలు..?\n",
            "[10:12] హర్మూజ్‌ జలసంధి విషయంలో ప్రపంచం భయపడిందే జరిగిందా అనే ఆందోళనలు మొదలయ్యాయి. ఇక్కడ మూడు నౌకలు తగలబడుతున్నట్లు వార్తలొస్తున్నాయి.టెహ్రాన్‌ను తక్షణమే వీడండి: భారతీయులకు ఎంబసీ తాజా అడ్వైజరీ\n",
            "[10:05] Iran-Israel: టెహ్రాన్‌లోని భారతీయులు తక్షణమే ఆ నగరాన్ని వీడాలని అక్కడి ఎంబసీ తాజాగా అడ్వైజరీ జారీ చేసింది.పశ్చిమాసియా వ్యాప్తంగా ఎయిర్‌పోర్టుల మూసివేత.. చిక్కుకుపోయిన వేలాదిమంది\n",
            "[10:04] ఇజ్రాయెల్‌-ఇరాన్‌ యుద్ధం నేపథ్యంలో పశ్చిమాసియా వ్యాప్తంగా గగనతలాలపై ఆంక్షలు విధించడంతో వేలాదిమంది ప్రయాణికులు చిక్కుకుపోయారు.కుప్పంలో మహిళపై దాడి ఘటన.. చంద్రబాబు ఆగ్రహం\n",
            "[09:56] కుప్పంలో ఓ మహిళను చెట్టుకు కట్టి దాడి చేసిన ఘటనపై ముఖ్యమంత్రి చంద్రబాబు ఆగ్రహం వ్యక్తం చేశారు.గల్ఫ్‌ దేశాలతో రాయబారం: ముందుగా ఇరాన్‌ ఒప్పందానికి రావాలన్న ట్రంప్‌..!\n",
            "[09:44] ఇజ్రాయెల్‌తో కాల్పుల విరమణ కోసం ఇరాన్‌ అరబ్‌ మిత్రుల సాయం కోరింది. కానీ, ట్రంప్‌ మాత్రం టెహ్రాన్‌ తొలుత డీల్‌ కుదుర్చుకోవాల్సిందేనని తేల్చి చెప్పారు.1947 నేపథ్యంలో మంచు విష్ణు సినిమా.. ‘ఢీ’ సీక్వెల్‌ గురించి ఏమన్నారంటే!\n",
            "[12:36] పోలవరం-బనకచర్ల వల్ల ఎగువ రాష్ట్రాలకు ఎలాంటి నష్టం లేదు : నిమ్మల రామానాయుడు\n",
            "[12:34] పోలవరం-బనకచర్ల ప్రాజెక్టు వల్ల ఎగువ రాష్ట్రాలకు ఎలాంటి నష్టం లేదని ఏపీ మంత్రి నిమ్మల రామానాయుడు అన్నారు.ఇరాన్‌ నుంచి అర్మేనియా చేరుకున్న 110 మంది భారతీయ విద్యార్థులు\n",
            "[12:30] ఇరాన్‌- ఇజ్రాయెల్‌ మధ్య యుద్ధం కొనసాగుతున్న నేపథ్యంలో అక్కడి భారతీయ విద్యార్థులను తరలించేందుకు ప్రభుత్వం చర్యలు చేపట్టింది.‘థగ్‌లైఫ్‌’ను కర్ణాటకలో విడుదల చేయాల్సిందే: సుప్రీంకోర్టు\n",
            "[12:29] కమల్‌హాసన్‌ నటించిన థగ్‌లైఫ్‌లో సుప్రీంకోర్టులో ఊరట లభించింది.బెంగళూరు ఎయిర్‌పోర్టులో చెవిరెడ్డిని అడ్డుకున్న పోలీసులు\n",
            "[12:26] వైకాపా నేత చెవిరెడ్డి భాస్కర్‌రెడ్డిని బెంగళూరు ఎయిర్‌పోర్టులో పోలీసులు అడ్డుకున్నారు.ఉక్రెయిన్‌పై రష్యా క్షిపణి దాడి.. 14 మంది మృతి\n",
            "[12:13] కీవ్‌లోని నివాస సముదాయాలపై రష్యా క్షిపణులు, డ్రోన్‌లతో విరుచుకుపడడంతో 14 మంది ప్రాణాలు కోల్పోయినట్లు అధికారులు పేర్కొన్నారు.ఫోన్‌ ట్యాపింగ్‌ కేసు.. విచారణకు హాజరైన టీపీసీసీ చీఫ్‌\n",
            "[11:57] ఫోన్‌ ట్యాపింగ్‌ కేసు విచారణకు టీపీసీసీ అధ్యక్షుడు మహేశ్‌కుమార్‌ గౌడ్‌ హాజరయ్యారు.టీ20 చరిత్రలో తొలిసారి.. మూడు సూపర్‌ ఓవర్లతో తేలిన ఫలితం\n",
            "[11:50] త్రైపాక్షిక సిరీస్‌లో భాగంగా నేపాల్‌, నెదర్లాండ్స్‌ మధ్య జరిగిన మ్యాచ్‌లో రెండుసార్లు స్కోరు సమం అవడంతో చివరకు మూడో సూపర్‌ ఓవర్‌లో ఫలితం తేలింది.సిరీస్‌గా ‘రెట్రో’ ఎక్స్‌టెండెడ్‌ వెర్షన్‌.... దర్శకుడు ఏం చెప్పారంటే!\n",
            "[11:41] ఓటీటీలోకి రెట్రో ఎక్స్‌టెండెడ్‌ వెర్షన్‌ తీసుకువచ్చే ఆలోచనలో ఉన్నట్లు దర్శకుడు వివరించారు.ఇరాన్‌లో ఏదో జరగబోతోంది.. అందుకే సిట్యుయేషన్‌ రూమ్‌కు ట్రంప్‌..!\n",
            "[11:17] ఇరాన్‌ భూగర్భ అణు కేంద్రాలను ధ్వంసం చేసేందుకు అమెరికా అమ్ములపొదిలోని శక్తిమంతమైన అస్త్రాలను బయటకు తీయనుందనే ప్రచారం జోరందుకొంది. మరోవైపు ట్రంప్‌ శ్వేతసౌధంలో సిట్యుయేషన్‌ రూమ్‌ను సిద్ధం చేయించారు.మినీ వ్యాను బీభత్సం.. దంపతుల దుర్మరణం\n",
            "[10:43] శ్రీపొట్టి శ్రీరాములు నెల్లూరు జిల్లా దుత్తలూరు మండలం బ్రహ్మేశ్వరంలో మినీ వ్యాను బీభత్సం సృష్టించింది.ఏటీఎంల్లో పెరిగిన రూ.100, రూ.200 నోట్ల లభ్యత\n",
            "[10:40] ATMs: ఆర్‌బీఐ గడువుకు మూడు నెలల కంటే ముందే దేశంలోని ఏటీఎంలలో రూ.100, రూ.200 నోట్ల లభ్యత 73 శాతానికి చేరింది.పూరి జగన్నాథ్‌ చిత్రంలో మరో నటి.. ఫొటో షేర్‌ చేసిన టీమ్‌\n",
            "[10:36] పూరి జగన్నాథ్‌ - విజయ్‌ సేతుపతి సినిమాలో మరో నటి భాగమయ్యారు. ఆమెతో దిగిన ఫొటోను పూరి, చార్మీ షేర్‌ చేశారు.టెహ్రాన్‌ ఎయిర్‌పోర్టుపై ఇజ్రాయెల్ దాడి.. రెండు ఎఫ్‌-14 యుద్ధ విమానాలు ధ్వంసం\n",
            "[10:27] టెహ్రాన్‌లోని విమానాశ్రయంపై ఇజ్రాయెల్‌ దాడులు చేసి.. రెండు ఎఫ్‌-14 యుద్ధ విమానాలను ధ్వంసం చేసింది.హర్మూజ్‌లో టెన్షన్‌.. మూడు నౌకల్లో మంటలు..?\n",
            "[10:12] హర్మూజ్‌ జలసంధి విషయంలో ప్రపంచం భయపడిందే జరిగిందా అనే ఆందోళనలు మొదలయ్యాయి. ఇక్కడ మూడు నౌకలు తగలబడుతున్నట్లు వార్తలొస్తున్నాయి.టెహ్రాన్‌ను తక్షణమే వీడండి: భారతీయులకు ఎంబసీ తాజా అడ్వైజరీ\n",
            "[10:05] Iran-Israel: టెహ్రాన్‌లోని భారతీయులు తక్షణమే ఆ నగరాన్ని వీడాలని అక్కడి ఎంబసీ తాజాగా అడ్వైజరీ జారీ చేసింది.పశ్చిమాసియా వ్యాప్తంగా ఎయిర్‌పోర్టుల మూసివేత.. చిక్కుకుపోయిన వేలాదిమంది\n",
            "[10:04] ఇజ్రాయెల్‌-ఇరాన్‌ యుద్ధం నేపథ్యంలో పశ్చిమాసియా వ్యాప్తంగా గగనతలాలపై ఆంక్షలు విధించడంతో వేలాదిమంది ప్రయాణికులు చిక్కుకుపోయారు.కుప్పంలో మహిళపై దాడి ఘటన.. చంద్రబాబు ఆగ్రహం\n",
            "[09:56] కుప్పంలో ఓ మహిళను చెట్టుకు కట్టి దాడి చేసిన ఘటనపై ముఖ్యమంత్రి చంద్రబాబు ఆగ్రహం వ్యక్తం చేశారు.గల్ఫ్‌ దేశాలతో రాయబారం: ముందుగా ఇరాన్‌ ఒప్పందానికి రావాలన్న ట్రంప్‌..!\n",
            "[09:44] ఇజ్రాయెల్‌తో కాల్పుల విరమణ కోసం ఇరాన్‌ అరబ్‌ మిత్రుల సాయం కోరింది. కానీ, ట్రంప్‌ మాత్రం టెహ్రాన్‌ తొలుత డీల్‌ కుదుర్చుకోవాల్సిందేనని తేల్చి చెప్పారు.1947 నేపథ్యంలో మంచు విష్ణు సినిమా.. ‘ఢీ’ సీక్వెల్‌ గురించి ఏమన్నారంటే!\n",
            "[12:36] పోలవరం-బనకచర్ల వల్ల ఎగువ రాష్ట్రాలకు ఎలాంటి నష్టం లేదు : నిమ్మల రామానాయుడు\n",
            "[12:34] ఇరాన్‌ నుంచి అర్మేనియా చేరుకున్న 110 మంది భారతీయ విద్యార్థులు\n",
            "[12:30] ‘థగ్‌లైఫ్‌’ను కర్ణాటకలో విడుదల చేయాల్సిందే: సుప్రీంకోర్టు\n",
            "[12:29] బెంగళూరు ఎయిర్‌పోర్టులో చెవిరెడ్డిని అడ్డుకున్న పోలీసులు\n",
            "[12:26] ఉక్రెయిన్‌పై రష్యా క్షిపణి దాడి.. 14 మంది మృతి\n",
            "[12:13] ఫోన్‌ ట్యాపింగ్‌ కేసు.. విచారణకు హాజరైన టీపీసీసీ చీఫ్‌\n",
            "[11:57] టీ20 చరిత్రలో తొలిసారి.. మూడు సూపర్‌ ఓవర్లతో తేలిన ఫలితం\n",
            "[11:50] సిరీస్‌గా ‘రెట్రో’ ఎక్స్‌టెండెడ్‌ వెర్షన్‌.... దర్శకుడు ఏం చెప్పారంటే!\n",
            "[11:41] ఇరాన్‌లో ఏదో జరగబోతోంది.. అందుకే సిట్యుయేషన్‌ రూమ్‌కు ట్రంప్‌..!\n",
            "[11:17] మినీ వ్యాను బీభత్సం.. దంపతుల దుర్మరణం\n",
            "[10:43] ఏటీఎంల్లో పెరిగిన రూ.100, రూ.200 నోట్ల లభ్యత\n",
            "[10:40] పూరి జగన్నాథ్‌ చిత్రంలో మరో నటి.. ఫొటో షేర్‌ చేసిన టీమ్‌\n",
            "[10:36] టెహ్రాన్‌ ఎయిర్‌పోర్టుపై ఇజ్రాయెల్ దాడి.. రెండు ఎఫ్‌-14 యుద్ధ విమానాలు ధ్వంసం\n",
            "[10:27] హర్మూజ్‌లో టెన్షన్‌.. మూడు నౌకల్లో మంటలు..?\n",
            "[10:12] టెహ్రాన్‌ను తక్షణమే వీడండి: భారతీయులకు ఎంబసీ తాజా అడ్వైజరీ\n",
            "[10:05] పశ్చిమాసియా వ్యాప్తంగా ఎయిర్‌పోర్టుల మూసివేత.. చిక్కుకుపోయిన వేలాదిమంది\n",
            "[10:04] కుప్పంలో మహిళపై దాడి ఘటన.. చంద్రబాబు ఆగ్రహం\n",
            "[09:56] గల్ఫ్‌ దేశాలతో రాయబారం: ముందుగా ఇరాన్‌ ఒప్పందానికి రావాలన్న ట్రంప్‌..!\n",
            "[09:44] 1947 నేపథ్యంలో మంచు విష్ణు సినిమా.. ‘ఢీ’ సీక్వెల్‌ గురించి ఏమన్నారంటే!\n",
            "మరిన్ని\n",
            "ఎక్కువ మంది చదివినవి(Most Read)నేటి రాశి ఫలాలు.. 12 రాశుల ఫలితాలు ఇలా... (17/06/2025)ఇరాన్‌ సుప్రీం లీడర్‌ను హతమారిస్తేనే యుద్ధానికి ముగింపు: నెతన్యాహు కీలక వ్యాఖ్యలులైవ్‌లో ఉండగానే దాడి.. ఇరాన్‌ యాంకర్‌కు ఊహించని అనుభవం!మహిళా ప్రయాణికురాలిపై ర్యాపిడో చోదకుడి దాష్టీకంఇజ్రాయెల్‌-ఇరాన్‌ యుద్ధం.. జీ7 ట్రిప్‌ నుంచి ఆగమేఘాలపై అమెరికాకు ట్రంప్‌..!కలిసి జీవించలేక.. చావులో ఒక్కటై!ఇల్లరికం అల్లుడు... అక్కను మోసం చేస్తున్నాడు!మొస్సాద్‌ డ్రోన్‌ ఫ్యాక్టరీనీ ధ్వంసం చేసిన ఇరాన్‌ !మరో ఎయిరిండియా విమానంలో సాంకేతిక సమస్య.. ప్రయాణికుల దించివేతమోదీ సైప్రస్‌ పర్యటన.. ప్రధాని పాదాలు తాకిన అధికారిణి!మరిన్ని\n",
            "ఎక్కువ మంది చదివినవి(Most Read)నేటి రాశి ఫలాలు.. 12 రాశుల ఫలితాలు ఇలా... (17/06/2025)ఇరాన్‌ సుప్రీం లీడర్‌ను హతమారిస్తేనే యుద్ధానికి ముగింపు: నెతన్యాహు కీలక వ్యాఖ్యలులైవ్‌లో ఉండగానే దాడి.. ఇరాన్‌ యాంకర్‌కు ఊహించని అనుభవం!మహిళా ప్రయాణికురాలిపై ర్యాపిడో చోదకుడి దాష్టీకంఇజ్రాయెల్‌-ఇరాన్‌ యుద్ధం.. జీ7 ట్రిప్‌ నుంచి ఆగమేఘాలపై అమెరికాకు ట్రంప్‌..!కలిసి జీవించలేక.. చావులో ఒక్కటై!ఇల్లరికం అల్లుడు... అక్కను మోసం చేస్తున్నాడు!మొస్సాద్‌ డ్రోన్‌ ఫ్యాక్టరీనీ ధ్వంసం చేసిన ఇరాన్‌ !మరో ఎయిరిండియా విమానంలో సాంకేతిక సమస్య.. ప్రయాణికుల దించివేతమోదీ సైప్రస్‌ పర్యటన.. ప్రధాని పాదాలు తాకిన అధికారిణి!మరిన్ని\n",
            "ఎక్కువ మంది చదివినవి(Most Read)\n"
          ]
        }
      ]
    }
  ],
  "metadata": {
    "colab": {
      "provenance": []
    },
    "kernelspec": {
      "display_name": "Python 3",
      "language": "python",
      "name": "python3"
    },
    "language_info": {
      "name": "python",
      "version": ""
    }
  },
  "nbformat": 4,
  "nbformat_minor": 0
}